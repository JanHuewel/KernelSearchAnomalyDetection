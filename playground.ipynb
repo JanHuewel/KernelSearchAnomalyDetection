{
 "cells": [
  {
   "cell_type": "code",
   "execution_count": 1,
   "metadata": {},
   "outputs": [
    {
     "name": "stdout",
     "output_type": "stream",
     "text": [
      "Requirement already satisfied: ruptures in /home/sage/sage/local/lib/python3.7/site-packages (1.1.4)\n",
      "Requirement already satisfied: scipy in /home/sage/sage/local/lib/python3.7/site-packages (from ruptures) (1.6.1)\n",
      "Requirement already satisfied: numpy in /home/sage/sage/local/lib/python3.7/site-packages (from ruptures) (1.19.5)\n"
     ]
    }
   ],
   "source": [
    "!pip install ruptures"
   ]
  },
  {
   "cell_type": "code",
   "execution_count": 2,
   "metadata": {},
   "outputs": [],
   "source": [
    "import multiprocessing\n",
    "import os\n",
    "import sys\n",
    "import pandas as pd\n",
    "import matplotlib.pyplot as plt\n",
    "import json\n",
    "\n",
    "if __name__ == '__main__':\n",
    "    multiprocessing.set_start_method('spawn')\n",
    "\n",
    "# This file has to be put directly in folder \"main/\"\n",
    "#   all other dependent packages need to be in sub folders of \"main/\"\n",
    "if os.name != 'nt':\n",
    "    sys.path.append(os.getcwd())\n",
    "\n",
    "    "
   ]
  },
  {
   "cell_type": "code",
   "execution_count": 3,
   "metadata": {},
   "outputs": [
    {
     "name": "stderr",
     "output_type": "stream",
     "text": [
      "INFO: Process-982:Initialization of global parameters finished.\n"
     ]
    }
   ],
   "source": [
    "\n",
    "import gpbasics.global_parameters as global_param\n",
    "\n",
    "global_param.init(tf_parallel=os.cpu_count())\n",
    "\n",
    "import gpbasics.Statistics.CovarianceMatrix as cov\n",
    "import gpbasics.DataHandling.DatasetHandler as dsh\n",
    "import gpbasics.DataHandling.DataInput as di\n",
    "import gpmretrieval.Experiments.Experiment as exp\n",
    "import gpmretrieval.AutomaticGpmRetrieval as agr\n",
    "import gpbasics.KernelBasics.BaseKernels as bk\n",
    "import gpbasics.MeanFunctionBasics.BaseMeanFunctions as bmf\n",
    "import gpbasics.Metrics.Metrics as met\n",
    "import gpmretrieval.KernelExpansionStrategies.KernelExpansionStrategy as kexp\n",
    "import gpbasics.Optimizer.Fitter as f\n",
    "import gpbasics.Metrics.MatrixHandlingTypes as mht\n",
    "import gpmretrieval.autogpmr_parameters as auto_gpm_param\n",
    "import tensorflow as tf\n",
    "import numpy as np\n",
    "import logging\n",
    "from PIC import pic\n",
    "from sklearn.cluster import KMeans, DBSCAN, AgglomerativeClustering\n",
    "import random"
   ]
  },
  {
   "cell_type": "code",
   "execution_count": 4,
   "metadata": {},
   "outputs": [],
   "source": [
    "#--------- Config section ----------\n",
    "\n",
    "global_param.p_max_threads = os.cpu_count()\n",
    "global_param.p_used_base_kernel = [bk.PeriodicKernel,\n",
    "                                   bk.SquaredExponentialKernel,\n",
    "                                   bk.LinearKernel]\n",
    "\n",
    "global_param.p_used_base_mean_functions = [bmf.ConstantMeanFunction, bmf.LinearMeanFunction]\n",
    "\n",
    "global_param.p_default_hierarchical_kernel_expansion = \\\n",
    "    kexp.KernelExpansionStrategyType.BasicHierarchical\n",
    "\n",
    "global_param.p_gradient_fitter = f.VariationalSgdFitter\n",
    "\n",
    "auto_gpm_param.p_model_selection_with_test_data = True\n",
    "\n",
    "global_param.p_dtype = tf.float64\n",
    "\n",
    "global_param.p_cov_matrix_jitter = tf.constant(1e-8, dtype=global_param.p_dtype)\n",
    "\n",
    "\n",
    "dataset_name = \"data/dd_test_basic_anomaly0.csv\"\n",
    "segment_length = 5\n",
    "number_of_clusters = 2\n",
    "method = \"KLD\" # cov, likelihood, MSE, KLD\n",
    "normalization = False\n"
   ]
  },
  {
   "cell_type": "code",
   "execution_count": 5,
   "metadata": {},
   "outputs": [],
   "source": [
    "# check length of dataset\n",
    "dataset_pandas = pd.read_csv(dataset_name)\n",
    "dataset_length = len(dataset_pandas)\n",
    "\n",
    "algorithms = [\n",
    "    # agr.AlgorithmType.CKS,\n",
    "    # agr.AlgorithmType.ABCD,\n",
    "     agr.AlgorithmType.SKC,\n",
    "    # agr.AlgorithmType.SKS,  # 3CS\n",
    "    # agr.AlgorithmType.IKS, # LARGe\n",
    "    # agr.AlgorithmType.TopDown_HKS # LGI\n",
    "]\n",
    "options = {\"global_max_depth\": 1, \"local_max_depth\": 3}"
   ]
  },
  {
   "cell_type": "code",
   "execution_count": 6,
   "metadata": {},
   "outputs": [],
   "source": [
    "\n",
    "# prepare data\n",
    "dataset = dsh.GeneralDatasetHandler(dataset_name,\n",
    "                                    y_col_name='Y',\n",
    "                                    x_col_name=\"X\")\n",
    "#dataset = dsh.KDDHandler(2)\n",
    "datasets = list()\n",
    "a, b, c, d = dataset.get_splitted_data()\n",
    "for i in range(int(dataset_length/segment_length)):\n",
    "    data_input_format = di.DataInput(a[i*segment_length:(i+1)*segment_length],\n",
    "                                     b[i*segment_length:(i+1)*segment_length],\n",
    "                                     c[i*segment_length:(i+1)*segment_length],\n",
    "                                     d[i*segment_length:(i+1)*segment_length])\n",
    "    datasets.append(data_input_format)"
   ]
  },
  {
   "cell_type": "code",
   "execution_count": 7,
   "metadata": {},
   "outputs": [
    {
     "name": "stderr",
     "output_type": "stream",
     "text": [
      "INFO: Using predefined data input.\n",
      "INFO: # Starting Experiment Set #1.1. \n",
      "Having meta: {'date': '06/11/2021, 09:03:32', 'max available_threads': 4, 'options': {'global_max_depth': 1, 'local_max_depth': 3, 'default_window_size': 500, 'npo': 1, 'partitions_split_per_layer': 10}, 'local_approx': 'MatrixApproximations.NONE', 'numerical_matrix_handling': 'NumericalMatrixHandlingType.CHOLESKY_BASED', 'approx_subset_size': 'None', 'used_base_kernel': \"[<class 'gpbasics.KernelBasics.BaseKernels.PeriodicKernel'>, <class 'gpbasics.KernelBasics.BaseKernels.SquaredExponentialKernel'>, <class 'gpbasics.KernelBasics.BaseKernels.LinearKernel'>]\", 'nystroem_ratio: ': 0.1, 'jitter': 1e-08, 'dataset': {'name': None, 'size': 5, 'Comment': 'Predefined Data Input'}, 'metrics': {'optimize_for': 'LL', 'select_by': 'LL'}, 'tensorflow_config': {'inter_op_parallel': 4, 'intra_op_parallel': 4}, 'optimizer_config': {'gradient_fitter': \"<class 'gpbasics.Optimizer.Fitter.VariationalSgdFitter'>\", 'non-gradient_fitter': 'None'}, 'kernel_exp_replacement': 'None', 'random_restarts': 10, 'clustering_method': 'ClusteringMethod.KMEANS', 'batch_cpd': 'None', 'sequential_cpd': 'None'}\n",
      "INFO: ## SKC Experiment, #1.1\n",
      "INFO: Mean Function Set: ZERO_MEAN: []\n",
      "WARNING: SKC does not use the predefined jitter of 0.000000 as its execution success relies on a higher jitter of 0.010000\n",
      "INFO: SKC will be executed with 20 inducing data points.\n",
      "INFO: kernel search: optimize for MetricType.LL, select models by MetricType.LL\n",
      "INFO: Setting up pool of parallel workers.\n",
      "INFO: Pool of workers set up!\n",
      "INFO: Parallel Kernel Search: Evaluating Base Kernels\n",
      "INFO: Starting optimizing 3 kernels.\n"
     ]
    },
    {
     "ename": "KeyboardInterrupt",
     "evalue": "",
     "output_type": "error",
     "traceback": [
      "\u001b[0;31m---------------------------------------------------------------------------\u001b[0m",
      "\u001b[0;31mKeyboardInterrupt\u001b[0m                         Traceback (most recent call last)",
      "\u001b[0;32m<ipython-input-7-857870909062>\u001b[0m in \u001b[0;36m<module>\u001b[0;34m()\u001b[0m\n\u001b[1;32m      8\u001b[0m         \u001b[0mmodel_selection_metric\u001b[0m\u001b[0;34m=\u001b[0m\u001b[0mmet\u001b[0m\u001b[0;34m.\u001b[0m\u001b[0mMetricType\u001b[0m\u001b[0;34m.\u001b[0m\u001b[0mLL\u001b[0m\u001b[0;34m,\u001b[0m \u001b[0mlocal_approx\u001b[0m\u001b[0;34m=\u001b[0m\u001b[0mmht\u001b[0m\u001b[0;34m.\u001b[0m\u001b[0mMatrixApproximations\u001b[0m\u001b[0;34m.\u001b[0m\u001b[0mNONE\u001b[0m\u001b[0;34m,\u001b[0m\u001b[0;34m\u001b[0m\u001b[0;34m\u001b[0m\u001b[0m\n\u001b[1;32m      9\u001b[0m         \u001b[0mnumerical_matrix_handling\u001b[0m\u001b[0;34m=\u001b[0m\u001b[0mmht\u001b[0m\u001b[0;34m.\u001b[0m\u001b[0mNumericalMatrixHandlingType\u001b[0m\u001b[0;34m.\u001b[0m\u001b[0mCHOLESKY_BASED\u001b[0m\u001b[0;34m,\u001b[0m \u001b[0moptimize_metric\u001b[0m\u001b[0;34m=\u001b[0m\u001b[0mmet\u001b[0m\u001b[0;34m.\u001b[0m\u001b[0mMetricType\u001b[0m\u001b[0;34m.\u001b[0m\u001b[0mLL\u001b[0m\u001b[0;34m,\u001b[0m\u001b[0;34m\u001b[0m\u001b[0;34m\u001b[0m\u001b[0m\n\u001b[0;32m---> 10\u001b[0;31m         random_restart=10) #to optimize\n\u001b[0m\u001b[1;32m     11\u001b[0m \u001b[0;34m\u001b[0m\u001b[0m\n\u001b[1;32m     12\u001b[0m     \u001b[0mlist_of_kernels\u001b[0m\u001b[0;34m.\u001b[0m\u001b[0mappend\u001b[0m\u001b[0;34m(\u001b[0m\u001b[0mexps\u001b[0m\u001b[0;34m[\u001b[0m\u001b[0;36m1\u001b[0m\u001b[0;34m]\u001b[0m\u001b[0;34m[\u001b[0m\u001b[0;34m\"best_gp\"\u001b[0m\u001b[0;34m]\u001b[0m\u001b[0;34m.\u001b[0m\u001b[0mcovariance_matrix\u001b[0m\u001b[0;34m.\u001b[0m\u001b[0mkernel\u001b[0m\u001b[0;34m)\u001b[0m\u001b[0;34m\u001b[0m\u001b[0;34m\u001b[0m\u001b[0m\n",
      "\u001b[0;32m/home/sage/documents/IN4PL/gpmretrieval/Experiments/Experiment.py\u001b[0m in \u001b[0;36mexecute_retrieval_experiments_set\u001b[0;34m(dataset, algorithms, local_approx, numerical_matrix_handling, optimize_metric, model_selection_metric, options, specifics_name, illustrate, mean_function_search, sequential_cpd, clustering_method, batch_cpd, subset_size, local_id, hierarchical_type, write_to_mongo, p_kernel_expression_replacement, incremental_traversor, covariance_function_repository, ignored_dimensions, random_restart, test_ratio)\u001b[0m\n\u001b[1;32m    216\u001b[0m                 \u001b[0mexperiment\u001b[0m\u001b[0;34m.\u001b[0m\u001b[0minit_mean_function\u001b[0m\u001b[0;34m(\u001b[0m\u001b[0mbmf\u001b[0m\u001b[0;34m.\u001b[0m\u001b[0mZeroMeanFunction\u001b[0m\u001b[0;34m(\u001b[0m\u001b[0minput_dimensionality\u001b[0m\u001b[0;34m)\u001b[0m\u001b[0;34m)\u001b[0m\u001b[0;34m\u001b[0m\u001b[0;34m\u001b[0m\u001b[0m\n\u001b[1;32m    217\u001b[0m \u001b[0;34m\u001b[0m\u001b[0m\n\u001b[0;32m--> 218\u001b[0;31m             \u001b[0mexp_part\u001b[0m\u001b[0;34m:\u001b[0m \u001b[0mdict\u001b[0m \u001b[0;34m=\u001b[0m \u001b[0mexperiment\u001b[0m\u001b[0;34m.\u001b[0m\u001b[0mexecute_kernel_search\u001b[0m\u001b[0;34m(\u001b[0m\u001b[0malgorithm\u001b[0m\u001b[0;34m,\u001b[0m \u001b[0millustrate\u001b[0m\u001b[0;34m)\u001b[0m\u001b[0;34m\u001b[0m\u001b[0;34m\u001b[0m\u001b[0m\n\u001b[0m\u001b[1;32m    219\u001b[0m \u001b[0;34m\u001b[0m\u001b[0m\n\u001b[1;32m    220\u001b[0m         \u001b[0mexperiments\u001b[0m\u001b[0;34m.\u001b[0m\u001b[0mappend\u001b[0m\u001b[0;34m(\u001b[0m\u001b[0mexp_part\u001b[0m\u001b[0;34m)\u001b[0m\u001b[0;34m\u001b[0m\u001b[0;34m\u001b[0m\u001b[0m\n",
      "\u001b[0;32m/home/sage/documents/IN4PL/gpmretrieval/Experiments/Experiment.py\u001b[0m in \u001b[0;36mexecute_kernel_search\u001b[0;34m(self, algorithm_type, illustrate)\u001b[0m\n\u001b[1;32m    335\u001b[0m         \u001b[0mbest_gp\u001b[0m\u001b[0;34m:\u001b[0m \u001b[0mgp\u001b[0m\u001b[0;34m.\u001b[0m\u001b[0mAbstractGaussianProcess\u001b[0m\u001b[0;34m\u001b[0m\u001b[0;34m\u001b[0m\u001b[0m\n\u001b[1;32m    336\u001b[0m         \u001b[0melapsed_time_search\u001b[0m\u001b[0;34m:\u001b[0m \u001b[0mfloat\u001b[0m\u001b[0;34m\u001b[0m\u001b[0;34m\u001b[0m\u001b[0m\n\u001b[0;32m--> 337\u001b[0;31m         \u001b[0mbest_gp\u001b[0m\u001b[0;34m,\u001b[0m \u001b[0melapsed_time_search\u001b[0m \u001b[0;34m=\u001b[0m \u001b[0msuper\u001b[0m\u001b[0;34m(\u001b[0m\u001b[0mRetrievalExperiment\u001b[0m\u001b[0;34m,\u001b[0m \u001b[0mself\u001b[0m\u001b[0;34m)\u001b[0m\u001b[0;34m.\u001b[0m\u001b[0mexecute_kernel_search\u001b[0m\u001b[0;34m(\u001b[0m\u001b[0malgorithm_type\u001b[0m\u001b[0;34m)\u001b[0m\u001b[0;34m\u001b[0m\u001b[0;34m\u001b[0m\u001b[0m\n\u001b[0m\u001b[1;32m    338\u001b[0m \u001b[0;34m\u001b[0m\u001b[0m\n\u001b[1;32m    339\u001b[0m         \u001b[0mbest_gp\u001b[0m \u001b[0;34m=\u001b[0m \u001b[0mbest_gp\u001b[0m\u001b[0;34m[\u001b[0m\u001b[0mlen\u001b[0m\u001b[0;34m(\u001b[0m\u001b[0mbest_gp\u001b[0m\u001b[0;34m)\u001b[0m \u001b[0;34m-\u001b[0m \u001b[0;36m1\u001b[0m\u001b[0;34m]\u001b[0m\u001b[0;34m\u001b[0m\u001b[0;34m\u001b[0m\u001b[0m\n",
      "\u001b[0;32m/home/sage/documents/IN4PL/gpmretrieval/AutomaticGpmRetrieval.py\u001b[0m in \u001b[0;36mexecute_kernel_search\u001b[0;34m(self, algorithm_type)\u001b[0m\n\u001b[1;32m    244\u001b[0m \u001b[0;34m\u001b[0m\u001b[0m\n\u001b[1;32m    245\u001b[0m         \u001b[0mstart_seconds\u001b[0m\u001b[0;34m:\u001b[0m \u001b[0mfloat\u001b[0m \u001b[0;34m=\u001b[0m \u001b[0mtime\u001b[0m\u001b[0;34m.\u001b[0m\u001b[0mtime\u001b[0m\u001b[0;34m(\u001b[0m\u001b[0;34m)\u001b[0m\u001b[0;34m\u001b[0m\u001b[0;34m\u001b[0m\u001b[0m\n\u001b[0;32m--> 246\u001b[0;31m         \u001b[0mbest_gps\u001b[0m \u001b[0;34m=\u001b[0m \u001b[0mkernel_search\u001b[0m\u001b[0;34m.\u001b[0m\u001b[0mstart_kernel_search\u001b[0m\u001b[0;34m(\u001b[0m\u001b[0;34m)\u001b[0m\u001b[0;34m\u001b[0m\u001b[0;34m\u001b[0m\u001b[0m\n\u001b[0m\u001b[1;32m    247\u001b[0m         \u001b[0mend_seconds_search\u001b[0m\u001b[0;34m:\u001b[0m \u001b[0mfloat\u001b[0m \u001b[0;34m=\u001b[0m \u001b[0mtime\u001b[0m\u001b[0;34m.\u001b[0m\u001b[0mtime\u001b[0m\u001b[0;34m(\u001b[0m\u001b[0;34m)\u001b[0m\u001b[0;34m\u001b[0m\u001b[0;34m\u001b[0m\u001b[0m\n\u001b[1;32m    248\u001b[0m         \u001b[0melapsed_time_search\u001b[0m\u001b[0;34m:\u001b[0m \u001b[0mfloat\u001b[0m \u001b[0;34m=\u001b[0m \u001b[0mend_seconds_search\u001b[0m \u001b[0;34m-\u001b[0m \u001b[0mstart_seconds\u001b[0m\u001b[0;34m\u001b[0m\u001b[0;34m\u001b[0m\u001b[0m\n",
      "\u001b[0;32m/home/sage/documents/IN4PL/gpmretrieval/KernelSearch/ParallelApproach.py\u001b[0m in \u001b[0;36mstart_kernel_search\u001b[0;34m(self)\u001b[0m\n\u001b[1;32m     33\u001b[0m \u001b[0;34m\u001b[0m\u001b[0m\n\u001b[1;32m     34\u001b[0m     \u001b[0;32mdef\u001b[0m \u001b[0mstart_kernel_search\u001b[0m\u001b[0;34m(\u001b[0m\u001b[0mself\u001b[0m\u001b[0;34m)\u001b[0m \u001b[0;34m->\u001b[0m \u001b[0mList\u001b[0m\u001b[0;34m[\u001b[0m\u001b[0mgp\u001b[0m\u001b[0;34m.\u001b[0m\u001b[0mAbstractGaussianProcess\u001b[0m\u001b[0;34m]\u001b[0m\u001b[0;34m:\u001b[0m\u001b[0;34m\u001b[0m\u001b[0;34m\u001b[0m\u001b[0m\n\u001b[0;32m---> 35\u001b[0;31m         \u001b[0;32mreturn\u001b[0m \u001b[0;34m[\u001b[0m\u001b[0mself\u001b[0m\u001b[0;34m.\u001b[0m\u001b[0mperform_kernel_search\u001b[0m\u001b[0;34m(\u001b[0m\u001b[0;34m)\u001b[0m\u001b[0;34m[\u001b[0m\u001b[0;36m0\u001b[0m\u001b[0;34m]\u001b[0m\u001b[0;34m]\u001b[0m\u001b[0;34m\u001b[0m\u001b[0;34m\u001b[0m\u001b[0m\n\u001b[0m\u001b[1;32m     36\u001b[0m \u001b[0;34m\u001b[0m\u001b[0m\n\u001b[1;32m     37\u001b[0m     \u001b[0;32mdef\u001b[0m \u001b[0msingle_kernel_optimization_parallelizable_adapter\u001b[0m\u001b[0;34m(\u001b[0m\u001b[0mself\u001b[0m\u001b[0;34m,\u001b[0m \u001b[0margs\u001b[0m\u001b[0;34m)\u001b[0m\u001b[0;34m:\u001b[0m\u001b[0;34m\u001b[0m\u001b[0;34m\u001b[0m\u001b[0m\n",
      "\u001b[0;32m/home/sage/documents/IN4PL/gpmretrieval/KernelSearch/ParallelApproach.py\u001b[0m in \u001b[0;36mperform_kernel_search\u001b[0;34m(self)\u001b[0m\n\u001b[1;32m    110\u001b[0m \u001b[0;34m\u001b[0m\u001b[0m\n\u001b[1;32m    111\u001b[0m                 \u001b[0mself\u001b[0m\u001b[0;34m.\u001b[0m\u001b[0mdefault_logging\u001b[0m\u001b[0;34m(\u001b[0m\u001b[0;34m\"Starting optimizing %i kernels.\"\u001b[0m \u001b[0;34m%\u001b[0m \u001b[0mlen\u001b[0m\u001b[0;34m(\u001b[0m\u001b[0morigin_kernels\u001b[0m\u001b[0;34m)\u001b[0m\u001b[0;34m)\u001b[0m\u001b[0;34m\u001b[0m\u001b[0;34m\u001b[0m\u001b[0m\n\u001b[0;32m--> 112\u001b[0;31m                 \u001b[0md\u001b[0m \u001b[0;34m=\u001b[0m \u001b[0mglobal_param\u001b[0m\u001b[0;34m.\u001b[0m\u001b[0mpool\u001b[0m\u001b[0;34m.\u001b[0m\u001b[0mmap\u001b[0m\u001b[0;34m(\u001b[0m\u001b[0mself\u001b[0m\u001b[0;34m.\u001b[0m\u001b[0msingle_kernel_optimization_parallelizable_adapter\u001b[0m\u001b[0;34m,\u001b[0m \u001b[0miterable_arg_tuples\u001b[0m\u001b[0;34m)\u001b[0m\u001b[0;34m\u001b[0m\u001b[0;34m\u001b[0m\u001b[0m\n\u001b[0m\u001b[1;32m    113\u001b[0m             \u001b[0;32melse\u001b[0m\u001b[0;34m:\u001b[0m\u001b[0;34m\u001b[0m\u001b[0;34m\u001b[0m\u001b[0m\n\u001b[1;32m    114\u001b[0m                 \u001b[0mresult_metrics\u001b[0m \u001b[0;34m=\u001b[0m \u001b[0;34m[\u001b[0m\u001b[0;34m]\u001b[0m\u001b[0;34m\u001b[0m\u001b[0;34m\u001b[0m\u001b[0m\n",
      "\u001b[0;32m/home/sage/sage/local/lib/python3.7/multiprocessing/pool.py\u001b[0m in \u001b[0;36mmap\u001b[0;34m(self, func, iterable, chunksize)\u001b[0m\n\u001b[1;32m    266\u001b[0m         \u001b[0;32min\u001b[0m \u001b[0ma\u001b[0m \u001b[0mlist\u001b[0m \u001b[0mthat\u001b[0m \u001b[0;32mis\u001b[0m \u001b[0mreturned\u001b[0m\u001b[0;34m.\u001b[0m\u001b[0;34m\u001b[0m\u001b[0;34m\u001b[0m\u001b[0m\n\u001b[1;32m    267\u001b[0m         '''\n\u001b[0;32m--> 268\u001b[0;31m         \u001b[0;32mreturn\u001b[0m \u001b[0mself\u001b[0m\u001b[0;34m.\u001b[0m\u001b[0m_map_async\u001b[0m\u001b[0;34m(\u001b[0m\u001b[0mfunc\u001b[0m\u001b[0;34m,\u001b[0m \u001b[0miterable\u001b[0m\u001b[0;34m,\u001b[0m \u001b[0mmapstar\u001b[0m\u001b[0;34m,\u001b[0m \u001b[0mchunksize\u001b[0m\u001b[0;34m)\u001b[0m\u001b[0;34m.\u001b[0m\u001b[0mget\u001b[0m\u001b[0;34m(\u001b[0m\u001b[0;34m)\u001b[0m\u001b[0;34m\u001b[0m\u001b[0;34m\u001b[0m\u001b[0m\n\u001b[0m\u001b[1;32m    269\u001b[0m \u001b[0;34m\u001b[0m\u001b[0m\n\u001b[1;32m    270\u001b[0m     \u001b[0;32mdef\u001b[0m \u001b[0mstarmap\u001b[0m\u001b[0;34m(\u001b[0m\u001b[0mself\u001b[0m\u001b[0;34m,\u001b[0m \u001b[0mfunc\u001b[0m\u001b[0;34m,\u001b[0m \u001b[0miterable\u001b[0m\u001b[0;34m,\u001b[0m \u001b[0mchunksize\u001b[0m\u001b[0;34m=\u001b[0m\u001b[0;32mNone\u001b[0m\u001b[0;34m)\u001b[0m\u001b[0;34m:\u001b[0m\u001b[0;34m\u001b[0m\u001b[0;34m\u001b[0m\u001b[0m\n",
      "\u001b[0;32m/home/sage/sage/local/lib/python3.7/multiprocessing/pool.py\u001b[0m in \u001b[0;36mget\u001b[0;34m(self, timeout)\u001b[0m\n\u001b[1;32m    649\u001b[0m \u001b[0;34m\u001b[0m\u001b[0m\n\u001b[1;32m    650\u001b[0m     \u001b[0;32mdef\u001b[0m \u001b[0mget\u001b[0m\u001b[0;34m(\u001b[0m\u001b[0mself\u001b[0m\u001b[0;34m,\u001b[0m \u001b[0mtimeout\u001b[0m\u001b[0;34m=\u001b[0m\u001b[0;32mNone\u001b[0m\u001b[0;34m)\u001b[0m\u001b[0;34m:\u001b[0m\u001b[0;34m\u001b[0m\u001b[0;34m\u001b[0m\u001b[0m\n\u001b[0;32m--> 651\u001b[0;31m         \u001b[0mself\u001b[0m\u001b[0;34m.\u001b[0m\u001b[0mwait\u001b[0m\u001b[0;34m(\u001b[0m\u001b[0mtimeout\u001b[0m\u001b[0;34m)\u001b[0m\u001b[0;34m\u001b[0m\u001b[0;34m\u001b[0m\u001b[0m\n\u001b[0m\u001b[1;32m    652\u001b[0m         \u001b[0;32mif\u001b[0m \u001b[0;32mnot\u001b[0m \u001b[0mself\u001b[0m\u001b[0;34m.\u001b[0m\u001b[0mready\u001b[0m\u001b[0;34m(\u001b[0m\u001b[0;34m)\u001b[0m\u001b[0;34m:\u001b[0m\u001b[0;34m\u001b[0m\u001b[0;34m\u001b[0m\u001b[0m\n\u001b[1;32m    653\u001b[0m             \u001b[0;32mraise\u001b[0m \u001b[0mTimeoutError\u001b[0m\u001b[0;34m\u001b[0m\u001b[0;34m\u001b[0m\u001b[0m\n",
      "\u001b[0;32m/home/sage/sage/local/lib/python3.7/multiprocessing/pool.py\u001b[0m in \u001b[0;36mwait\u001b[0;34m(self, timeout)\u001b[0m\n\u001b[1;32m    646\u001b[0m \u001b[0;34m\u001b[0m\u001b[0m\n\u001b[1;32m    647\u001b[0m     \u001b[0;32mdef\u001b[0m \u001b[0mwait\u001b[0m\u001b[0;34m(\u001b[0m\u001b[0mself\u001b[0m\u001b[0;34m,\u001b[0m \u001b[0mtimeout\u001b[0m\u001b[0;34m=\u001b[0m\u001b[0;32mNone\u001b[0m\u001b[0;34m)\u001b[0m\u001b[0;34m:\u001b[0m\u001b[0;34m\u001b[0m\u001b[0;34m\u001b[0m\u001b[0m\n\u001b[0;32m--> 648\u001b[0;31m         \u001b[0mself\u001b[0m\u001b[0;34m.\u001b[0m\u001b[0m_event\u001b[0m\u001b[0;34m.\u001b[0m\u001b[0mwait\u001b[0m\u001b[0;34m(\u001b[0m\u001b[0mtimeout\u001b[0m\u001b[0;34m)\u001b[0m\u001b[0;34m\u001b[0m\u001b[0;34m\u001b[0m\u001b[0m\n\u001b[0m\u001b[1;32m    649\u001b[0m \u001b[0;34m\u001b[0m\u001b[0m\n\u001b[1;32m    650\u001b[0m     \u001b[0;32mdef\u001b[0m \u001b[0mget\u001b[0m\u001b[0;34m(\u001b[0m\u001b[0mself\u001b[0m\u001b[0;34m,\u001b[0m \u001b[0mtimeout\u001b[0m\u001b[0;34m=\u001b[0m\u001b[0;32mNone\u001b[0m\u001b[0;34m)\u001b[0m\u001b[0;34m:\u001b[0m\u001b[0;34m\u001b[0m\u001b[0;34m\u001b[0m\u001b[0m\n",
      "\u001b[0;32m/home/sage/sage/local/lib/python3.7/threading.py\u001b[0m in \u001b[0;36mwait\u001b[0;34m(self, timeout)\u001b[0m\n\u001b[1;32m    550\u001b[0m             \u001b[0msignaled\u001b[0m \u001b[0;34m=\u001b[0m \u001b[0mself\u001b[0m\u001b[0;34m.\u001b[0m\u001b[0m_flag\u001b[0m\u001b[0;34m\u001b[0m\u001b[0;34m\u001b[0m\u001b[0m\n\u001b[1;32m    551\u001b[0m             \u001b[0;32mif\u001b[0m \u001b[0;32mnot\u001b[0m \u001b[0msignaled\u001b[0m\u001b[0;34m:\u001b[0m\u001b[0;34m\u001b[0m\u001b[0;34m\u001b[0m\u001b[0m\n\u001b[0;32m--> 552\u001b[0;31m                 \u001b[0msignaled\u001b[0m \u001b[0;34m=\u001b[0m \u001b[0mself\u001b[0m\u001b[0;34m.\u001b[0m\u001b[0m_cond\u001b[0m\u001b[0;34m.\u001b[0m\u001b[0mwait\u001b[0m\u001b[0;34m(\u001b[0m\u001b[0mtimeout\u001b[0m\u001b[0;34m)\u001b[0m\u001b[0;34m\u001b[0m\u001b[0;34m\u001b[0m\u001b[0m\n\u001b[0m\u001b[1;32m    553\u001b[0m             \u001b[0;32mreturn\u001b[0m \u001b[0msignaled\u001b[0m\u001b[0;34m\u001b[0m\u001b[0;34m\u001b[0m\u001b[0m\n\u001b[1;32m    554\u001b[0m \u001b[0;34m\u001b[0m\u001b[0m\n",
      "\u001b[0;32m/home/sage/sage/local/lib/python3.7/threading.py\u001b[0m in \u001b[0;36mwait\u001b[0;34m(self, timeout)\u001b[0m\n\u001b[1;32m    294\u001b[0m         \u001b[0;32mtry\u001b[0m\u001b[0;34m:\u001b[0m    \u001b[0;31m# restore state no matter what (e.g., KeyboardInterrupt)\u001b[0m\u001b[0;34m\u001b[0m\u001b[0;34m\u001b[0m\u001b[0m\n\u001b[1;32m    295\u001b[0m             \u001b[0;32mif\u001b[0m \u001b[0mtimeout\u001b[0m \u001b[0;32mis\u001b[0m \u001b[0;32mNone\u001b[0m\u001b[0;34m:\u001b[0m\u001b[0;34m\u001b[0m\u001b[0;34m\u001b[0m\u001b[0m\n\u001b[0;32m--> 296\u001b[0;31m                 \u001b[0mwaiter\u001b[0m\u001b[0;34m.\u001b[0m\u001b[0macquire\u001b[0m\u001b[0;34m(\u001b[0m\u001b[0;34m)\u001b[0m\u001b[0;34m\u001b[0m\u001b[0;34m\u001b[0m\u001b[0m\n\u001b[0m\u001b[1;32m    297\u001b[0m                 \u001b[0mgotit\u001b[0m \u001b[0;34m=\u001b[0m \u001b[0;32mTrue\u001b[0m\u001b[0;34m\u001b[0m\u001b[0;34m\u001b[0m\u001b[0m\n\u001b[1;32m    298\u001b[0m             \u001b[0;32melse\u001b[0m\u001b[0;34m:\u001b[0m\u001b[0;34m\u001b[0m\u001b[0;34m\u001b[0m\u001b[0m\n",
      "\u001b[0;31mKeyboardInterrupt\u001b[0m: "
     ]
    }
   ],
   "source": [
    "# perform kernel search on segments\n",
    "list_of_kernels = []\n",
    "list_of_noises = []\n",
    "for i in range(int(dataset_length/segment_length)):\n",
    "\n",
    "    exps = exp.execute_retrieval_experiments_set(\n",
    "        datasets[i], algorithms=algorithms, mean_function_search=False, options=options, illustrate=False,\n",
    "        model_selection_metric=met.MetricType.LL, local_approx=mht.MatrixApproximations.NONE,\n",
    "        numerical_matrix_handling=mht.NumericalMatrixHandlingType.CHOLESKY_BASED, optimize_metric=met.MetricType.LL,\n",
    "        random_restart=10) #to optimize\n",
    "\n",
    "    list_of_kernels.append(exps[1][\"best_gp\"].covariance_matrix.kernel)\n",
    "    list_of_noises.append(exps[1][\"best_gp\"].covariance_matrix.kernel.get_noise())"
   ]
  },
  {
   "cell_type": "code",
   "execution_count": null,
   "metadata": {},
   "outputs": [],
   "source": []
  },
  {
   "cell_type": "code",
   "execution_count": null,
   "metadata": {},
   "outputs": [],
   "source": []
  }
 ],
 "metadata": {
  "kernelspec": {
   "display_name": "Python 3",
   "language": "python",
   "name": "python3"
  },
  "language_info": {
   "codemirror_mode": {
    "name": "ipython",
    "version": 3
   },
   "file_extension": ".py",
   "mimetype": "text/x-python",
   "name": "python",
   "nbconvert_exporter": "python",
   "pygments_lexer": "ipython3",
   "version": "3.7.3"
  }
 },
 "nbformat": 4,
 "nbformat_minor": 2
}
