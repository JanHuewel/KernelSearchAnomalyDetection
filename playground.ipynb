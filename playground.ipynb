{
 "cells": [
  {
   "cell_type": "code",
   "execution_count": 1,
   "metadata": {},
   "outputs": [
    {
     "name": "stdout",
     "output_type": "stream",
     "text": [
      "Requirement already satisfied: ruptures in /home/sage/sage/local/lib/python3.7/site-packages (1.1.4)\n",
      "Requirement already satisfied: numpy in /home/sage/sage/local/lib/python3.7/site-packages (from ruptures) (1.19.5)\n",
      "Requirement already satisfied: scipy in /home/sage/sage/local/lib/python3.7/site-packages (from ruptures) (1.6.1)\n"
     ]
    }
   ],
   "source": [
    "!pip install ruptures"
   ]
  },
  {
   "cell_type": "code",
   "execution_count": 2,
   "metadata": {},
   "outputs": [],
   "source": [
    "import multiprocessing\n",
    "import os\n",
    "import sys\n",
    "import pandas as pd\n",
    "import matplotlib.pyplot as plt\n",
    "import json\n",
    "\n",
    "if __name__ == '__main__':\n",
    "    multiprocessing.set_start_method('spawn')\n",
    "\n",
    "# This file has to be put directly in folder \"main/\"\n",
    "#   all other dependent packages need to be in sub folders of \"main/\"\n",
    "if os.name != 'nt':\n",
    "    sys.path.append(os.getcwd())\n",
    "\n",
    "    "
   ]
  },
  {
   "cell_type": "code",
   "execution_count": 3,
   "metadata": {},
   "outputs": [
    {
     "name": "stderr",
     "output_type": "stream",
     "text": [
      "INFO: Process-897:Initialization of global parameters finished.\n"
     ]
    }
   ],
   "source": [
    "\n",
    "import gpbasics.global_parameters as global_param\n",
    "\n",
    "global_param.init(tf_parallel=os.cpu_count())\n",
    "\n",
    "import gpbasics.Statistics.CovarianceMatrix as cov\n",
    "import gpbasics.DataHandling.DatasetHandler as dsh\n",
    "import gpbasics.DataHandling.DataInput as di\n",
    "import gpmretrieval.Experiments.Experiment as exp\n",
    "import gpmretrieval.AutomaticGpmRetrieval as agr\n",
    "import gpbasics.KernelBasics.BaseKernels as bk\n",
    "import gpbasics.MeanFunctionBasics.BaseMeanFunctions as bmf\n",
    "import gpbasics.Metrics.Metrics as met\n",
    "import gpmretrieval.KernelExpansionStrategies.KernelExpansionStrategy as kexp\n",
    "import gpbasics.Optimizer.Fitter as f\n",
    "import gpbasics.Metrics.MatrixHandlingTypes as mht\n",
    "import gpmretrieval.autogpmr_parameters as auto_gpm_param\n",
    "import tensorflow as tf\n",
    "import numpy as np\n",
    "import logging\n",
    "from PIC import pic\n",
    "from sklearn.cluster import KMeans, DBSCAN, AgglomerativeClustering\n",
    "import random"
   ]
  },
  {
   "cell_type": "code",
   "execution_count": null,
   "metadata": {},
   "outputs": [],
   "source": []
  }
 ],
 "metadata": {
  "kernelspec": {
   "display_name": "Python 3",
   "language": "python",
   "name": "python3"
  },
  "language_info": {
   "codemirror_mode": {
    "name": "ipython",
    "version": 3
   },
   "file_extension": ".py",
   "mimetype": "text/x-python",
   "name": "python",
   "nbconvert_exporter": "python",
   "pygments_lexer": "ipython3",
   "version": "3.7.3"
  }
 },
 "nbformat": 4,
 "nbformat_minor": 2
}
