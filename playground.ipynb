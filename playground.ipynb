{
 "cells": [
  {
   "cell_type": "code",
   "execution_count": 19,
   "metadata": {},
   "outputs": [
    {
     "name": "stderr",
     "output_type": "stream",
     "text": [
      "INFO: Process-704:Initialization of global parameters finished.\n"
     ]
    },
    {
     "ename": "ModuleNotFoundError",
     "evalue": "No module named 'gpmretrieval'",
     "output_type": "error",
     "traceback": [
      "\u001b[0;31m---------------------------------------------------------------------------\u001b[0m",
      "\u001b[0;31mModuleNotFoundError\u001b[0m                       Traceback (most recent call last)",
      "\u001b[0;32m<ipython-input-19-7096e59fdc6e>\u001b[0m in \u001b[0;36m<module>\u001b[0;34m()\u001b[0m\n\u001b[1;32m     21\u001b[0m \u001b[0;32mimport\u001b[0m \u001b[0mgpbasics\u001b[0m\u001b[0;34m.\u001b[0m\u001b[0mDataHandling\u001b[0m\u001b[0;34m.\u001b[0m\u001b[0mDatasetHandler\u001b[0m \u001b[0;32mas\u001b[0m \u001b[0mdsh\u001b[0m\u001b[0;34m\u001b[0m\u001b[0;34m\u001b[0m\u001b[0m\n\u001b[1;32m     22\u001b[0m \u001b[0;32mimport\u001b[0m \u001b[0mgpbasics\u001b[0m\u001b[0;34m.\u001b[0m\u001b[0mDataHandling\u001b[0m\u001b[0;34m.\u001b[0m\u001b[0mDataInput\u001b[0m \u001b[0;32mas\u001b[0m \u001b[0mdi\u001b[0m\u001b[0;34m\u001b[0m\u001b[0;34m\u001b[0m\u001b[0m\n\u001b[0;32m---> 23\u001b[0;31m \u001b[0;32mimport\u001b[0m \u001b[0mgpmretrieval\u001b[0m\u001b[0;34m.\u001b[0m\u001b[0mExperiments\u001b[0m\u001b[0;34m.\u001b[0m\u001b[0mExperiment\u001b[0m \u001b[0;32mas\u001b[0m \u001b[0mexp\u001b[0m\u001b[0;34m\u001b[0m\u001b[0;34m\u001b[0m\u001b[0m\n\u001b[0m\u001b[1;32m     24\u001b[0m \u001b[0;32mimport\u001b[0m \u001b[0mgpmretrieval\u001b[0m\u001b[0;34m.\u001b[0m\u001b[0mAutomaticGpmRetrieval\u001b[0m \u001b[0;32mas\u001b[0m \u001b[0magr\u001b[0m\u001b[0;34m\u001b[0m\u001b[0;34m\u001b[0m\u001b[0m\n\u001b[1;32m     25\u001b[0m \u001b[0;32mimport\u001b[0m \u001b[0mgpbasics\u001b[0m\u001b[0;34m.\u001b[0m\u001b[0mKernelBasics\u001b[0m\u001b[0;34m.\u001b[0m\u001b[0mBaseKernels\u001b[0m \u001b[0;32mas\u001b[0m \u001b[0mbk\u001b[0m\u001b[0;34m\u001b[0m\u001b[0;34m\u001b[0m\u001b[0m\n",
      "\u001b[0;31mModuleNotFoundError\u001b[0m: No module named 'gpmretrieval'"
     ]
    }
   ],
   "source": [
    "import multiprocessing\n",
    "import os\n",
    "import sys\n",
    "import pandas as pd\n",
    "import matplotlib.pyplot as plt\n",
    "import json\n",
    "\n",
    "if __name__ == '__main__':\n",
    "    multiprocessing.set_start_method('spawn')\n",
    "\n",
    "# This file has to be put directly in folder \"main/\"\n",
    "#   all other dependent packages need to be in sub folders of \"main/\"\n",
    "if os.name != 'nt':\n",
    "    sys.path.append(os.getcwd())\n",
    "\n",
    "import gpbasics.global_parameters as global_param\n",
    "\n",
    "global_param.init(tf_parallel=os.cpu_count())\n",
    "\n",
    "import gpbasics.Statistics.CovarianceMatrix as cov\n",
    "import gpbasics.DataHandling.DatasetHandler as dsh\n",
    "import gpbasics.DataHandling.DataInput as di\n",
    "import gpmretrieval.Experiments.Experiment as exp\n",
    "import gpmretrieval.AutomaticGpmRetrieval as agr\n",
    "import gpbasics.KernelBasics.BaseKernels as bk\n",
    "import gpbasics.MeanFunctionBasics.BaseMeanFunctions as bmf\n",
    "import gpbasics.Metrics.Metrics as met\n",
    "import gpmretrieval.KernelExpansionStrategies.KernelExpansionStrategy as kexp\n",
    "import gpbasics.Optimizer.Fitter as f\n",
    "import gpbasics.Metrics.MatrixHandlingTypes as mht\n",
    "import gpmretrieval.autogpmr_parameters as auto_gpm_param\n",
    "import tensorflow as tf\n",
    "import numpy as np\n",
    "import logging\n",
    "from PIC import pic\n",
    "from sklearn.cluster import KMeans, DBSCAN, AgglomerativeClustering\n",
    "from pyspark.mllib.clustering import PowerIterationClustering\n",
    "import random"
   ]
  },
  {
   "cell_type": "code",
   "execution_count": null,
   "metadata": {},
   "outputs": [],
   "source": []
  }
 ],
 "metadata": {
  "kernelspec": {
   "display_name": "Python 3",
   "language": "python",
   "name": "python3"
  },
  "language_info": {
   "codemirror_mode": {
    "name": "ipython",
    "version": 3
   },
   "file_extension": ".py",
   "mimetype": "text/x-python",
   "name": "python",
   "nbconvert_exporter": "python",
   "pygments_lexer": "ipython3",
   "version": "3.7.3"
  }
 },
 "nbformat": 4,
 "nbformat_minor": 2
}
